{
  "nbformat": 4,
  "nbformat_minor": 0,
  "metadata": {
    "colab": {
      "provenance": []
    },
    "kernelspec": {
      "name": "python3",
      "display_name": "Python 3"
    },
    "language_info": {
      "name": "python"
    }
  },
  "cells": [
    {
      "cell_type": "code",
      "execution_count": null,
      "metadata": {
        "id": "8SUiJjOldYGZ"
      },
      "outputs": [],
      "source": [
        "import nltk"
      ]
    },
    {
      "cell_type": "code",
      "source": [
        "nltk.download('punkt_tab')"
      ],
      "metadata": {
        "colab": {
          "base_uri": "https://localhost:8080/"
        },
        "id": "9zg8CRjfdaV-",
        "outputId": "190fc005-f75d-402f-f980-a13bb8f95db8"
      },
      "execution_count": null,
      "outputs": [
        {
          "output_type": "stream",
          "name": "stderr",
          "text": [
            "[nltk_data] Downloading package punkt_tab to /root/nltk_data...\n",
            "[nltk_data]   Unzipping tokenizers/punkt_tab.zip.\n"
          ]
        },
        {
          "output_type": "execute_result",
          "data": {
            "text/plain": [
              "True"
            ]
          },
          "metadata": {},
          "execution_count": 3
        }
      ]
    },
    {
      "cell_type": "code",
      "source": [
        "from nltk.stem import PorterStemmer\n",
        "from nltk.tokenize import word_tokenize\n",
        "text=\"Internationalization of indian products and services to be utilized at intenational forums.\"\n",
        "stemmer=PorterStemmer()\n",
        "words=word_tokenize(text)\n",
        "stemmered_words=[stemmer.stem(word) for word in words]\n",
        "print(\"stemmer words:\", stemmered_words)"
      ],
      "metadata": {
        "colab": {
          "base_uri": "https://localhost:8080/"
        },
        "id": "1bC1TH34deIY",
        "outputId": "3a4566e1-5870-4463-afd6-9ebe59e0a1ef"
      },
      "execution_count": null,
      "outputs": [
        {
          "output_type": "stream",
          "name": "stdout",
          "text": [
            "stemmer words: ['internation', 'of', 'indian', 'product', 'and', 'servic', 'to', 'be', 'util', 'at', 'inten', 'forum', '.']\n"
          ]
        }
      ]
    },
    {
      "cell_type": "code",
      "source": [
        "from nltk.stem import SnowballStemmer\n",
        "from nltk.tokenize import word_tokenize\n",
        "text=\"Internationalization of indian products and services to be utilized at intenational forums.\"\n",
        "stemmer=SnowballStemmer(language='english')\n",
        "words=word_tokenize(text)\n",
        "stemmered_words=[stemmer.stem(word) for word in words]\n",
        "print(\"stemmer words:\", stemmered_words)"
      ],
      "metadata": {
        "colab": {
          "base_uri": "https://localhost:8080/"
        },
        "id": "XNPtwXqHd-Kd",
        "outputId": "c7a05db9-9579-4cb9-cad5-7a0633cd5a1f"
      },
      "execution_count": null,
      "outputs": [
        {
          "output_type": "stream",
          "name": "stdout",
          "text": [
            "stemmer words: ['internation', 'of', 'indian', 'product', 'and', 'servic', 'to', 'be', 'util', 'at', 'inten', 'forum', '.']\n"
          ]
        }
      ]
    },
    {
      "cell_type": "code",
      "source": [
        "nltk.download('wordnet')"
      ],
      "metadata": {
        "colab": {
          "base_uri": "https://localhost:8080/"
        },
        "id": "TpUUmPEAfKJZ",
        "outputId": "400b2401-0c2c-477c-dab7-030673f6d8b7"
      },
      "execution_count": null,
      "outputs": [
        {
          "output_type": "stream",
          "name": "stderr",
          "text": [
            "[nltk_data] Downloading package wordnet to /root/nltk_data...\n"
          ]
        },
        {
          "output_type": "execute_result",
          "data": {
            "text/plain": [
              "True"
            ]
          },
          "metadata": {},
          "execution_count": 6
        }
      ]
    },
    {
      "cell_type": "code",
      "source": [
        "from nltk.stem import WordNetLemmatizer\n",
        "from nltk.tokenize import word_tokenize\n",
        "text = \"The ongoing iteration of the Maha Kumbh Mela, scheduled to take place from 13 January to 26 February 2025, at the Triveni Sangam in Prayagraj, Uttar Pradesh, India.\"\n",
        "lemmatizer=WordNetLemmatizer()\n",
        "words=word_tokenize(text)\n",
        "stemmered_words=[lemmatizer.lemmatize(word) for word in words]\n",
        "print(\"Stemmered Words:\", stemmered_words)"
      ],
      "metadata": {
        "colab": {
          "base_uri": "https://localhost:8080/"
        },
        "id": "B7-1T7ZzjcD-",
        "outputId": "6e9f490a-e5ec-4018-995f-9ae9b0c38643"
      },
      "execution_count": null,
      "outputs": [
        {
          "output_type": "stream",
          "name": "stdout",
          "text": [
            "Stemmered Words: ['The', 'ongoing', 'iteration', 'of', 'the', 'Maha', 'Kumbh', 'Mela', ',', 'scheduled', 'to', 'take', 'place', 'from', '13', 'January', 'to', '26', 'February', '2025', ',', 'at', 'the', 'Triveni', 'Sangam', 'in', 'Prayagraj', ',', 'Uttar', 'Pradesh', ',', 'India', '.']\n"
          ]
        }
      ]
    },
    {
      "cell_type": "code",
      "source": [],
      "metadata": {
        "id": "MbLxJiqokIgD"
      },
      "execution_count": null,
      "outputs": []
    }
  ]
}