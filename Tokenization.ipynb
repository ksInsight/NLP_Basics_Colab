{
  "nbformat": 4,
  "nbformat_minor": 0,
  "metadata": {
    "colab": {
      "provenance": [],
      "gpuType": "T4"
    },
    "kernelspec": {
      "name": "python3",
      "display_name": "Python 3"
    },
    "language_info": {
      "name": "python"
    },
    "accelerator": "GPU"
  },
  "cells": [
    {
      "cell_type": "code",
      "execution_count": null,
      "metadata": {
        "colab": {
          "base_uri": "https://localhost:8080/"
        },
        "id": "UKW7zhxT6X0l",
        "outputId": "ebe7468f-e7b6-4281-b8b2-1a3dcc066420"
      },
      "outputs": [
        {
          "output_type": "stream",
          "name": "stdout",
          "text": [
            "Requirement already satisfied: nltk in /usr/local/lib/python3.11/dist-packages (3.9.1)\n",
            "Requirement already satisfied: click in /usr/local/lib/python3.11/dist-packages (from nltk) (8.1.8)\n",
            "Requirement already satisfied: joblib in /usr/local/lib/python3.11/dist-packages (from nltk) (1.4.2)\n",
            "Requirement already satisfied: regex>=2021.8.3 in /usr/local/lib/python3.11/dist-packages (from nltk) (2024.11.6)\n",
            "Requirement already satisfied: tqdm in /usr/local/lib/python3.11/dist-packages (from nltk) (4.67.1)\n"
          ]
        }
      ],
      "source": [
        "pip install nltk"
      ]
    },
    {
      "cell_type": "code",
      "source": [
        "import nltk"
      ],
      "metadata": {
        "id": "Yq9_HAT76egP"
      },
      "execution_count": null,
      "outputs": []
    },
    {
      "cell_type": "code",
      "source": [
        "nltk.download('punkt_tab')"
      ],
      "metadata": {
        "colab": {
          "base_uri": "https://localhost:8080/"
        },
        "id": "V8gjik1L7RlY",
        "outputId": "007d7a48-f16a-47b1-cbb4-7c6101edc57e"
      },
      "execution_count": null,
      "outputs": [
        {
          "output_type": "stream",
          "name": "stderr",
          "text": [
            "[nltk_data] Downloading package punkt_tab to /root/nltk_data...\n",
            "[nltk_data]   Unzipping tokenizers/punkt_tab.zip.\n"
          ]
        },
        {
          "output_type": "execute_result",
          "data": {
            "text/plain": [
              "True"
            ]
          },
          "metadata": {},
          "execution_count": 4
        }
      ]
    },
    {
      "cell_type": "code",
      "source": [
        "from nltk.tokenize import word_tokenize,sent_tokenize, sent_tokenize\n",
        "text = \"The ongoing iteration of the Maha Kumbh Mela, scheduled to take place from 13 January to 26 February 2025, at the Triveni Sangam in Prayagraj, Uttar Pradesh, India.\"\n",
        "sentences = sent_tokenize(text)\n",
        "print(\"sentence:\", sentences)\n",
        "\n",
        "words = word_tokenize(text)\n",
        "print(\"word\", words)"
      ],
      "metadata": {
        "colab": {
          "base_uri": "https://localhost:8080/"
        },
        "id": "B3VCf3Ro7YqA",
        "outputId": "a25f9129-6817-439a-9c5b-2ee9cb998d2f"
      },
      "execution_count": null,
      "outputs": [
        {
          "output_type": "stream",
          "name": "stdout",
          "text": [
            "sentence: ['The ongoing iteration of the Maha Kumbh Mela, scheduled to take place from 13 January to 26 February 2025, at the Triveni Sangam in Prayagraj, Uttar Pradesh, India.']\n",
            "word ['The', 'ongoing', 'iteration', 'of', 'the', 'Maha', 'Kumbh', 'Mela', ',', 'scheduled', 'to', 'take', 'place', 'from', '13', 'January', 'to', '26', 'February', '2025', ',', 'at', 'the', 'Triveni', 'Sangam', 'in', 'Prayagraj', ',', 'Uttar', 'Pradesh', ',', 'India', '.']\n"
          ]
        }
      ]
    },
    {
      "cell_type": "code",
      "source": [
        "nltk.download('stopwords')"
      ],
      "metadata": {
        "colab": {
          "base_uri": "https://localhost:8080/"
        },
        "id": "1DHf5_SC85zh",
        "outputId": "460c3bd4-bb7f-4135-af52-38ee2049e66f"
      },
      "execution_count": null,
      "outputs": [
        {
          "output_type": "stream",
          "name": "stderr",
          "text": [
            "[nltk_data] Downloading package stopwords to /root/nltk_data...\n",
            "[nltk_data]   Unzipping corpora/stopwords.zip.\n"
          ]
        },
        {
          "output_type": "execute_result",
          "data": {
            "text/plain": [
              "True"
            ]
          },
          "metadata": {},
          "execution_count": 7
        }
      ]
    },
    {
      "cell_type": "code",
      "source": [
        "from nltk.corpus import stopwords\n",
        "from nltk.tokenize import word_tokenize\n",
        "text = \"The ongoing iteration of the Maha Kumbh Mela, scheduled to take place from 13 January to 26 February 2025, at the Triveni Sangam in Prayagraj, Uttar Pradesh, India.\"\n",
        "stop_words = set(stopwords.words('english'))\n",
        "words = word_tokenize(text)\n",
        "filtered_words = [word for word in words if word.lower() not in stop_words]\n",
        "print(\"Filtered_words:\", filtered_words)\n"
      ],
      "metadata": {
        "colab": {
          "base_uri": "https://localhost:8080/"
        },
        "id": "VZXvWqv1CC9o",
        "outputId": "0926c99f-9c33-4559-fd98-eb657f4b3766"
      },
      "execution_count": null,
      "outputs": [
        {
          "output_type": "stream",
          "name": "stdout",
          "text": [
            "Filtered_words: ['ongoing', 'iteration', 'Maha', 'Kumbh', 'Mela', ',', 'scheduled', 'take', 'place', '13', 'January', '26', 'February', '2025', ',', 'Triveni', 'Sangam', 'Prayagraj', ',', 'Uttar', 'Pradesh', ',', 'India', '.']\n"
          ]
        }
      ]
    },
    {
      "cell_type": "code",
      "source": [],
      "metadata": {
        "id": "vFfhv-doDBmT"
      },
      "execution_count": null,
      "outputs": []
    }
  ]
}